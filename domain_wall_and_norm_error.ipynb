{
 "cells": [
  {
   "cell_type": "markdown",
   "id": "bcf65481-5b26-43d8-9f86-297a4b66607d",
   "metadata": {},
   "source": [
    "# A domain wall causes large norm error and incorrect energies\n",
    "By Tomohiro Soejima\n",
    "\n",
    "In this notebook, we look at the effect of a domain wall on iDMRG algorithm. We will see a domain wall can result in non-translation invariant ground state, large norm error, and incorrect enery reporting by DMRG."
   ]
  },
  {
   "cell_type": "markdown",
   "id": "e312db2b-82d6-4c70-9b70-f1aeaae414cb",
   "metadata": {},
   "source": [
    "We consider the following XXZ Hamiltonian from [`tenpy.models.xxz_chain.XXZChain`](https://tenpy.readthedocs.io/en/latest/reference/tenpy.models.xxz_chain.XXZChain.html#tenpy.models.xxz_chain.XXZChain).\n",
    "\n",
    "$$ H = \\sum_i \\frac{\\mathtt{Jxx}}{2} (S^{+}_i S^{-}_{i+1} + S^{-}_i S^{+}_{i+1})\n",
    "                 + \\mathtt{Jz} S^z_i S^z_{i+1} $$\n",
    "                 \n",
    "When $\\mathtt{Jz} > 0$ and $ |\\mathtt{Jxx}| << |\\mathtt{Jz}| $, the translation invariant ground states look like\n",
    "\n",
    "$$\n",
    "\\begin{aligned}\n",
    "& \\ldots \\uparrow \\uparrow \\uparrow \\ldots \\\\\n",
    "& \\ldots \\downarrow \\downarrow\\downarrow \\ldots \n",
    "\\end{aligned}\n",
    "$$\n",
    "with some perturbation on top of it.\n",
    "\n",
    "These are however not the only ground states! There are _infinitely many_ translation breaking ground states with a single domain wall.\n",
    "\n",
    "$$\n",
    "\\ldots \\uparrow \\uparrow \\uparrow \\downarrow \\downarrow\\downarrow \\ldots\n",
    "$$\n",
    "\n",
    "(One might object these states have higher energy than fully-polarized ground states. These states are ground states due to a unique feature of infinite-size sytems: A given quantum state is a ground state if there is no _local_ perturbation that can lower its energy. Since we can not remove a single domain wall locally, these states are ground states.)"
   ]
  },
  {
   "cell_type": "markdown",
   "id": "b443921d-773a-4c69-9698-c5b00c902649",
   "metadata": {},
   "source": [
    "Which set of ground states does DMRG find? It depends on how DMRG is initialized. Consider the example of two-site DMRG (implemented in [`tenpy.algorithms.dmrg.TwoSiteDMRGEngine`](https://tenpy.readthedocs.io/en/latest/reference/tenpy.algorithms.dmrg.TwoSiteDMRGEngine.html#tenpy.algorithms.dmrg.TwoSiteDMRGEngine). There are two choices for initial product states.\n",
    "\n",
    "1. [$\\uparrow, \\uparrow$] or [$\\downarrow, \\downarrow$]\n",
    "2. [$\\uparrow, \\downarrow$] or [$\\downarrow, \\uparrow$]\n",
    "\n",
    "The first choice lead to spin-polarized ground states. Let's consider what happens to the second choice. In DMRG, we first initialize left and right environments, such that our state will look something like\n",
    "\n",
    "$$ \\uparrow \\downarrow \\uparrow \\downarrow \\uparrow \\downarrow \\uparrow \\downarrow [\\uparrow \\downarrow] \\uparrow \\downarrow\\uparrow \\downarrow\\uparrow \\downarrow \\uparrow \\downarrow, $$\n",
    "\n",
    "where $[\\uparrow \\downarrow]$ represent the location to be optimized, and repeated $\\uparrow\\downarrow$ correspond to the environment. What is the lowest energy state we can write down while fixing the environments? Noting that iDMRG algorithm often conserve symmetries (either implicitly or explicitly via [`np_conserved`](https://tenpy.readthedocs.io/en/latest/reference/tenpy.linalg.np_conserved.html)), we need to answer this question with $S_z$ conservation. The lowest energy state is then\n",
    "\n",
    "$$ \\uparrow \\downarrow \\uparrow \\downarrow \\uparrow \\downarrow \\uparrow \\downarrow [\\downarrow \\uparrow] \\uparrow \\downarrow\\uparrow \\downarrow\\uparrow \\downarrow \\uparrow \\downarrow, $$\n",
    "\n",
    "which minimizes the number of domain walls. Then, the state $[\\downarrow, \\uparrow]$ is used to grown the environments by one site to give us the next iteration:\n",
    "\n",
    "$$ \\uparrow \\downarrow \\uparrow \\downarrow \\uparrow \\downarrow \\uparrow \\downarrow \\downarrow [\\uparrow, \\downarrow] \\uparrow \\uparrow \\downarrow\\uparrow \\downarrow\\uparrow \\downarrow \\uparrow \\downarrow. $$\n",
    "\n",
    "By repeating this iteration, we see that our iDMRG will converge to\n",
    "\n",
    "$$\\uparrow \\downarrow \\uparrow \\downarrow \\uparrow \\downarrow \\uparrow \\downarrow \\downarrow\\ldots\\downarrow\\downarrow \\uparrow \\uparrow \\uparrow \\ldots \\uparrow \\uparrow  \\downarrow\\uparrow \\downarrow\\uparrow \\downarrow \\uparrow \\downarrow\n",
    "$$\n",
    "\n",
    "Since what is happening at the edge does not matter for the nature of the ground state, we conclude that iDMRG converged to a translation breaking ground state with a single domain wall."
   ]
  },
  {
   "cell_type": "markdown",
   "id": "3f48af01-e32b-487c-8522-828ccf8c7df3",
   "metadata": {},
   "source": [
    "## Detecting a domain wall: E_DMRG v. E_MPO\n",
    "iDMRG algorithm _assumes_ that we converge to a translation invariant ground state. As a result, there are many ways our usual intuition for iDMRG can break down in the presence of a domain wall. We can use those to detect the presence of a domain wall.\n",
    "\n",
    "The first test we look at is the energy difference between\n",
    "1. `E_DMRG`: The energy reported by iDMRG algorithm. (returned by [`DMRGengine.run()`](https://tenpy.readthedocs.io/en/latest/reference/tenpy.algorithms.dmrg.DMRGEngine.html#tenpy.algorithms.dmrg.DMRGEngine.run) for example.)\n",
    "2. `E_MPO` : The energy computed from iMPS and iMPO. (Can be evaluated by [`MPO.expectation_value(psi)`](https://tenpy.readthedocs.io/en/latest/reference/tenpy.networks.mpo.MPO.html#tenpy.networks.mpo.MPO.expectation_value))\n",
    "\n",
    "The former is defined as follows. During iDMRG iteration, we grow our systems size by two lattice sites per iteration. We compute the energy of the entire system at each iteration, which we call `E_sweep[i]`. Then `E_DMRG = E_sweep[N_sweeps] - E_sweep[N_sweeps-1]` serves as a good approximation for the energy per two lattice sites.\n",
    "\n",
    "On the other hand, `E_MPO` is obtained by first converting the result of iDMRG to an iMPS, and then evaluting its energy with respect to the Hamiltonian represented by an MPO.\n",
    "\n",
    "In the ferromagnetic case, the `E_DMRG` and `E_MPO` are expected to coincide. The energy to grow the system by two unit cells $\\ldots \\uparrow \\uparrow \\ldots \\to \\ldots \\uparrow \\uparrow \\uparrow \\uparrow \\ldots $ should be `2 * Jz / 4`, which is the same as the energy per unit cell.\n",
    "\n",
    "Let's now consider the case with a domain wall. When we add two sites $\\ldots \\uparrow \\downarrow \\ldots \\to \\ldots \\uparrow \\uparrow \\downarrow \\downarrow \\ldots $, the energy again changes by `2 * Jz/4`. However, the iMPS extracted from the final state of DMRG will be $\\ldots \\uparrow \\downarrow \\uparrow \\downarrow \\uparrow \\downarrow \\uparrow \\downarrow \\ldots$. The energy per unit cell is `-2 * Jz/4`, which is different from `E_DMRG`!\n",
    "\n",
    "We can now test this prediction using iDMRG."
   ]
  },
  {
   "cell_type": "code",
   "execution_count": 1,
   "id": "240cbc68-cd3f-4ea8-97dc-f9068ef8e472",
   "metadata": {
    "tags": []
   },
   "outputs": [],
   "source": [
    "import numpy as np\n",
    "import tenpy\n",
    "import time\n",
    "from tenpy.networks.mps import MPS\n",
    "from tenpy.models.tf_ising import TFIChain\n",
    "from tenpy.models.xxz_chain import XXZChain\n",
    "from tenpy.algorithms import dmrg\n",
    "\n",
    "def dmrg_XXZchain(Jxx, Jz, chi=10, ps = [\"up\", \"down\"]):\n",
    "    # two site unit cell\n",
    "    model_params = dict(L=2, Jxx=Jxx, Jz = Jz, bc_MPS='infinite')\n",
    "    M = XXZChain(model_params)\n",
    "    # create initial state\n",
    "    product_state = ps * (M.lat.N_sites//2)\n",
    "    psi = MPS.from_product_state(M.lat.mps_sites(), product_state, bc=M.lat.bc_MPS)\n",
    "    dmrg_params = {\n",
    "        'start_env': 10,\n",
    "        'mixer': False,\n",
    "        #  'mixer_params': {'amplitude': 1.e-3, 'decay': 5., 'disable_after': 50},\n",
    "        'trunc_params': {\n",
    "            'chi_max': 5,\n",
    "            'svd_min': 1.e-10\n",
    "        },\n",
    "        'max_E_err': 1.e-9,\n",
    "        'max_S_err': 1.e-6,\n",
    "        'update_env': 0,\n",
    "    }\n",
    "    eng = dmrg.TwoSiteDMRGEngine(psi, M, dmrg_params)\n",
    "    eng.trunc_params['chi_max'] = chi\n",
    "    ##   DMRG Calculation    ##\n",
    "    E_DMRG, psi = eng.run()\n",
    "    E_MPO = M.H_MPO.expectation_value(psi)\n",
    "    ## Compute Sz expecation values ##\n",
    "    Sz = psi.expectation_value(\"Sz\")\n",
    "    ## Norm error ##\n",
    "    norm_err = psi.norm_test()\n",
    "    return psi, E_DMRG, E_MPO, Sz, norm_err"
   ]
  },
  {
   "cell_type": "code",
   "execution_count": 7,
   "id": "f079f918-af35-4dfd-8e3c-21ea3dae69c7",
   "metadata": {},
   "outputs": [
    {
     "name": "stdout",
     "output_type": "stream",
     "text": [
      "|Jz | ps | `E_DMRG` | `E_MPO` | S_z |\n",
      "|--- | --- | --- | --- | --- |\n",
      "|-1|['up', 'down']|0.25|0.25|[ 0.5 -0.5]|\n",
      "|-1|['up', 'up']|0.25|-0.25|[0.5 0.5]|\n",
      "|1|['up', 'down']|0.25|-0.25|[ 0.5 -0.5]|\n",
      "|1|['up', 'up']|0.25|0.25|[0.5 0.5]|\n"
     ]
    }
   ],
   "source": [
    "print(\"|Jz | ps | `E_DMRG` | `E_MPO` | S_z |\")\n",
    "print(\"|--- | --- | --- | --- | --- |\")\n",
    "for Jz in [-1, 1]:\n",
    "    for ps in [[\"up\", \"down\"], [\"up\", \"up\"]]:\n",
    "        psi, E_DMRG, E_MPO, Sz, norm_err = dmrg_XXZchain(Jxx=0.0, Jz=Jz, chi=10, ps=ps)\n",
    "        print(f\"|{Jz}|{ps}|{E_reported}|{E_MPO}|{Sz}|\")"
   ]
  },
  {
   "cell_type": "markdown",
   "id": "107211a7-9648-44be-ba76-60823094b591",
   "metadata": {
    "tags": []
   },
   "source": [
    "|Jz | ps | `E_DMRG` | `E_MPO` | S_z |\n",
    "|--- | --- | --- | --- | --- |\n",
    "|-1|['up', 'down']|-0.25|0.25|[ 0.5 -0.5]|\n",
    "|-1|['up', 'up']|-0.25|-0.25|[0.5 0.5]|\n",
    "|1|['up', 'down']|-0.25|-0.25|[ 0.5 -0.5]|\n",
    "|1|['up', 'up']|0.25|0.25|[0.5 0.5]|"
   ]
  },
  {
   "cell_type": "markdown",
   "id": "153ca49f-548e-49e7-bfa3-53e0995c6567",
   "metadata": {},
   "source": [
    "In the computation above, we set `Jxx=0`, and varies the initial state `ps`, `Jz`, and measured `E_DMRG`, `E_MPO` and also `Sz` expectation values. We see that when `Jz=-1` (i.e. ferromagnetic) and `ps=[\"up\", \"down\"]`, `E_MPO` and `E_DMRG` has the opposite sign, exactly as expected! This signals that `[\"up\", \"down\"]` initial state leads to non-translation-invariant final state in iDMRG."
   ]
  },
  {
   "cell_type": "markdown",
   "id": "fc229800-cf6b-4915-a308-0786be9b8254",
   "metadata": {},
   "source": [
    "## Detecting domain wall from norm error\n",
    "\n",
    "There is another manifestation of a domain wall, which manifest in non-vanishing [`norm_error`](https://tenpy.readthedocs.io/en/latest/reference/tenpy.networks.mps.MPS.html#tenpy.networks.mps.MPS.norm_test).\n",
    "\n",
    "`norm_error` is computed by comparing the following two diagrams:\n",
    "\n",
    "```\n",
    "|   --theta[i]---.       --s[i]--.\n",
    "|       |        |    vs         |\n",
    "|   --theta*[i]--.       --s[i]--.\n",
    "```\n",
    "\n",
    "`norm_error` goes to zero if iDMRG converges to a translation invariant state. However, if it converges to a state with a domain wall, `norm_error` does not go to zero.\n",
    "\n",
    "To see this, notice that `--s--s--` diagram is computed from the SVD of the previous step, so it captures the entanglement exactly at the domain wall (red vertical line), while `--theta--theta--` captures the entanglement at the green vertical line, which captures entanglement slightly away from domain wall.\n",
    "\n",
    "$$\n",
    "\\ldots \\uparrow \\uparrow \\color{green}{|}[\\uparrow \\color{red}{|} \\downarrow] \\downarrow \\downarrow \\ldots\n",
    "$$\n",
    "\n",
    "These two cuts don't need to have the same entanglement, and it can result in nonzero `norm_error`.\n",
    "\n",
    "In the following, we will see this for a concrete example of XXZ chain. We will set `Jxx != 0` so that ground states are not product states."
   ]
  },
  {
   "cell_type": "code",
   "execution_count": null,
   "id": "0224497f-bcb8-4d91-9088-14c9a4463dee",
   "metadata": {},
   "outputs": [],
   "source": [
    "print(\"|Jz | ps | `E_DMRG` | `E_MPO` | S_z |\")\n",
    "print(\"|--- | --- | --- | --- | --- |\")\n",
    "for Jz in [-1, 1]:\n",
    "    for ps in [[\"up\", \"down\"], [\"up\", \"up\"]]:\n",
    "        psi, E_DMRG, E_MPO, Sz, norm_err = dmrg_XXZchain(Jxx=0.2, Jz=Jz, chi=10, ps=ps)\n",
    "        print(f\"|{Jz}|{ps}|{E_DMRG}|{E_MPO}|{Sz}|\")"
   ]
  },
  {
   "cell_type": "markdown",
   "id": "47c1f201-d4d6-4f22-afb7-5a9bc78d1ccd",
   "metadata": {},
   "source": [
    "Jxx = 0.2\n",
    "\n",
    "|Jz | ps | `E_DMRG` | `E_MPO` | S_z |\n",
    "|--- | --- | --- | --- | --- |\n",
    "|-1|['up', 'down']|-0.2499999999999991|0.2349979690226362|[ 0.48989693 -0.48989693]|\n",
    "|-1|['up', 'up']|-0.25|-0.25|[0.5 0.5]|\n",
    "|1|['up', 'down']|-0.2599000101934674|-0.2599000101934509|[ 0.47979802 -0.47979802]|\n",
    "|1|['up', 'up']|0.25|0.25|[0.5 0.5]|"
   ]
  },
  {
   "cell_type": "markdown",
   "id": "73974de8-f776-407d-a625-19bfa5444df7",
   "metadata": {},
   "source": [
    "We can already notice a long warning sign about nonzero `norm_error`. We also observe `E_DMRG != E_MPO` as expected.\n",
    "\n",
    "We can plot norm_error as a function of `Jxx`, which sets the degree of entanglement."
   ]
  },
  {
   "cell_type": "code",
   "execution_count": 3,
   "id": "357edaf4-7887-45e3-a54d-f6b5af0aa04d",
   "metadata": {},
   "outputs": [
    {
     "name": "stderr",
     "output_type": "stream",
     "text": [
      "final DMRG state not in canonical form up to norm_tol=1.00e-05: norm_err=5.03e-03\n",
      "norm_err=5.03e-03 still too high after environment_sweeps\n",
      "final DMRG state not in canonical form up to norm_tol_final=1.00e-10: norm_err=5.03e-03, calling psi.canonical_form()\n",
      "canonical_form_infinite: project to significantly smaller chi\n",
      "canonical_form_infinite: project to significantly smaller chi\n",
      "final DMRG state not in canonical form up to norm_tol=1.00e-05: norm_err=2.04e-02\n",
      "norm_err=2.04e-02 still too high after environment_sweeps\n",
      "final DMRG state not in canonical form up to norm_tol_final=1.00e-10: norm_err=2.04e-02, calling psi.canonical_form()\n",
      "canonical_form_infinite: project to significantly smaller chi\n",
      "canonical_form_infinite: project to significantly smaller chi\n",
      "canonical_form_infinite: project to significantly smaller chi\n",
      "final DMRG state not in canonical form up to norm_tol=1.00e-05: norm_err=4.71e-02\n",
      "norm_err=4.71e-02 still too high after environment_sweeps\n",
      "final DMRG state not in canonical form up to norm_tol_final=1.00e-10: norm_err=4.71e-02, calling psi.canonical_form()\n",
      "canonical_form_infinite: project to significantly smaller chi\n",
      "canonical_form_infinite: project to significantly smaller chi\n",
      "canonical_form_infinite: project to significantly smaller chi\n",
      "final DMRG state not in canonical form up to norm_tol=1.00e-05: norm_err=8.69e-02\n",
      "norm_err=8.69e-02 still too high after environment_sweeps\n",
      "final DMRG state not in canonical form up to norm_tol_final=1.00e-10: norm_err=8.69e-02, calling psi.canonical_form()\n",
      "canonical_form_infinite: project to significantly smaller chi\n",
      "canonical_form_infinite: project to significantly smaller chi\n",
      "final DMRG state not in canonical form up to norm_tol=1.00e-05: norm_err=1.43e-01\n",
      "norm_err=1.43e-01 still too high after environment_sweeps\n",
      "final DMRG state not in canonical form up to norm_tol_final=1.00e-10: norm_err=1.43e-01, calling psi.canonical_form()\n",
      "canonical_form_infinite: project to significantly smaller chi\n",
      "canonical_form_infinite: project to significantly smaller chi\n",
      "final DMRG state not in canonical form up to norm_tol=1.00e-05: norm_err=2.19e-01\n",
      "norm_err=2.19e-01 still too high after environment_sweeps\n",
      "final DMRG state not in canonical form up to norm_tol_final=1.00e-10: norm_err=2.19e-01, calling psi.canonical_form()\n",
      "canonical_form_infinite: project to significantly smaller chi\n",
      "canonical_form_infinite: project to significantly smaller chi\n",
      "canonical_form_infinite: project to significantly smaller chi\n",
      "final DMRG state not in canonical form up to norm_tol=1.00e-05: norm_err=3.22e-01\n",
      "norm_err=3.22e-01 still too high after environment_sweeps\n",
      "final DMRG state not in canonical form up to norm_tol_final=1.00e-10: norm_err=3.22e-01, calling psi.canonical_form()\n",
      "canonical_form_infinite: project to significantly smaller chi\n",
      "canonical_form_infinite: project to significantly smaller chi\n",
      "canonical_form_infinite: project to significantly smaller chi\n",
      "final DMRG state not in canonical form up to norm_tol=1.00e-05: norm_err=4.54e-01\n",
      "norm_err=4.54e-01 still too high after environment_sweeps\n",
      "final DMRG state not in canonical form up to norm_tol_final=1.00e-10: norm_err=4.54e-01, calling psi.canonical_form()\n",
      "canonical_form_infinite: project to significantly smaller chi\n",
      "canonical_form_infinite: project to significantly smaller chi\n",
      "final DMRG state not in canonical form up to norm_tol=1.00e-05: norm_err=5.68e-01\n",
      "norm_err=5.68e-01 still too high after environment_sweeps\n",
      "final DMRG state not in canonical form up to norm_tol_final=1.00e-10: norm_err=5.68e-01, calling psi.canonical_form()\n",
      "canonical_form_infinite: project to significantly smaller chi\n",
      "canonical_form_infinite: project to significantly smaller chi\n",
      "canonical_form_infinite: project to significantly smaller chi\n",
      "final DMRG state not in canonical form up to norm_tol=1.00e-05: norm_err=5.21e-05\n",
      "norm_err=5.21e-05 still too high after environment_sweeps\n",
      "final DMRG state not in canonical form up to norm_tol_final=1.00e-10: norm_err=5.21e-05, calling psi.canonical_form()\n"
     ]
    }
   ],
   "source": [
    "Jz = -1\n",
    "ps = [\"up\", \"down\"]\n",
    "for Jxx in np.linspace(0, 1, 11):\n",
    "    psi, E_DMRG, E_MPO, Sz, norm_err = dmrg_XXZchain(Jxx=Jxx, Jz=Jz, chi=10, ps=ps)"
   ]
  },
  {
   "cell_type": "code",
   "execution_count": 20,
   "id": "9499cd9c-ae38-44e2-a77c-f416570371bc",
   "metadata": {},
   "outputs": [
    {
     "data": {
      "text/plain": [
       "<function matplotlib.pyplot.show(close=None, block=None)>"
      ]
     },
     "execution_count": 20,
     "metadata": {},
     "output_type": "execute_result"
    },
    {
     "data": {
      "image/png": "[encoded data removed]",
      "text/plain": [
       "<Figure size 640x480 with 1 Axes>"
      ]
     },
     "metadata": {},
     "output_type": "display_data"
    }
   ],
   "source": [
    "import matplotlib.pyplot as plt\n",
    "%matplotlib inline\n",
    "\n",
    "norm_errs = [1e-16, 5.03e-03, 2.04e-02, 4.71e-02, 8.69e-02, 1.43e-01, 2.19e-01, 3.22e-01, 4.54e-01, 5.68e-01, 5.21e-05]\n",
    "plt.plot(np.linspace(0, 1, 11), norm_errs, \"o-\")\n",
    "plt.yscale(\"log\")\n",
    "plt.xlabel(\"Jxx\")\n",
    "plt.ylabel(\"norm_err\")\n",
    "plt.ylim(ymin = 1e-5)\n",
    "plt.show"
   ]
  },
  {
   "cell_type": "markdown",
   "id": "c5a1bebf-3026-442a-bfea-63df2a0a24b5",
   "metadata": {},
   "source": [
    "We see norm error steadily increases until it goes back down again at Jxx = 1. If we turn on logging, we can see these large norm errors aren't due to lack of sweeps:"
   ]
  },
  {
   "cell_type": "code",
   "execution_count": 19,
   "id": "36fa4e92-a4d6-4f3d-a9be-84e9183ddc85",
   "metadata": {},
   "outputs": [
    {
     "name": "stderr",
     "output_type": "stream",
     "text": [
      "INFO:tenpy.tools.params:XXZChain: reading 'L'=2\n",
      "INFO:tenpy.tools.params:XXZChain: reading 'Jxx'=0.2\n",
      "INFO:tenpy.tools.params:XXZChain: reading 'Jz'=-1\n",
      "INFO:tenpy.tools.params:XXZChain: reading 'bc_MPS'='infinite'\n",
      "INFO:tenpy.tools.params:TwoSiteDMRGEngine: subconfig 'trunc_params'=Config(<2 options>, 'trunc_params')\n",
      "INFO:tenpy.tools.params:TwoSiteDMRGEngine: reading 'start_env'=10\n",
      "INFO:tenpy.algorithms.mps_common:start environment_sweep\n",
      "INFO:tenpy.tools.params:trunc_params: reading 'chi_max'=5\n",
      "INFO:tenpy.tools.params:trunc_params: reading 'svd_min'=1e-10\n",
      "INFO:tenpy.tools.params:TwoSiteDMRGEngine: reading 'max_E_err'=1e-09\n",
      "INFO:tenpy.tools.params:TwoSiteDMRGEngine: reading 'max_S_err'=1e-06\n",
      "INFO:tenpy.tools.params:TwoSiteDMRGEngine: reading 'update_env'=0\n",
      "INFO:tenpy.tools.params:TwoSiteDMRGEngine: reading 'mixer'=False\n",
      "INFO:tenpy.algorithms.dmrg:Running sweep with optimization\n",
      "INFO:tenpy.algorithms.dmrg:checkpoint after sweep 10\n",
      "energy=-0.2500000000000003, max S=0.0574181342308985, age=160, norm_err=2.0e-02\n",
      "Current memory usage 187.6MB, wall time: 0.4s\n",
      "Delta E = nan, Delta S = 5.7418e-03 (per sweep)\n",
      "max trunc_err = 2.7747e-31, max E_trunc = 9.4369e-16\n",
      "chi: [4, 4]\n",
      "================================================================================\n",
      "INFO:tenpy.algorithms.dmrg:Running sweep with optimization\n",
      "INFO:tenpy.algorithms.dmrg:checkpoint after sweep 20\n",
      "energy=-0.2499999999999991, max S=0.0574181342309019, age=240, norm_err=2.0e-02\n",
      "Current memory usage 187.6MB, wall time: 0.4s\n",
      "Delta E = 1.2212e-16, Delta S = 6.1756e-17 (per sweep)\n",
      "max trunc_err = 5.7724e-30, max E_trunc = 3.5527e-15\n",
      "chi: [4, 4]\n",
      "================================================================================\n",
      "WARNING:tenpy.algorithms.dmrg:final DMRG state not in canonical form up to norm_tol=1.00e-05: norm_err=2.04e-02\n",
      "WARNING:tenpy.algorithms.dmrg:norm_err=2.04e-02 still too high after environment_sweeps\n",
      "WARNING:tenpy.algorithms.dmrg:final DMRG state not in canonical form up to norm_tol_final=1.00e-10: norm_err=2.04e-02, calling psi.canonical_form()\n",
      "WARNING:tenpy.networks.mps:canonical_form_infinite: project to significantly smaller chi\n",
      "WARNING:tenpy.networks.mps:canonical_form_infinite: project to significantly smaller chi\n",
      "WARNING:tenpy.networks.mps:canonical_form_infinite: project to significantly smaller chi\n",
      "INFO:tenpy.algorithms.dmrg:DMRG finished after 20 sweeps, max chi=3\n"
     ]
    }
   ],
   "source": [
    "import logging\n",
    "logging.basicConfig(level=logging.INFO)\n",
    "\n",
    "Jz = -1\n",
    "Jxx = 0.2\n",
    "ps = [\"up\", \"down\"]\n",
    "psi, E_DMRG, E_MPO, Sz, norm_err = dmrg_XXZchain(Jxx=Jxx, Jz=Jz, chi=10, ps=ps)"
   ]
  },
  {
   "cell_type": "markdown",
   "id": "31a0bee8-d49a-4e43-8583-a5c08eee2173",
   "metadata": {},
   "source": [
    "We see that both Delta E and Delta S are exteremely small, showing good convergence, but `norm_err` stays high around 2.0e-2. We can also observe its dependence on `Jxx`, which sets the states deviation from a product state."
   ]
  },
  {
   "cell_type": "markdown",
   "id": "8afb51f2-b840-4f59-b368-bd068fce628b",
   "metadata": {},
   "source": [
    "## Conclusion\n",
    "\n",
    "When we run iDMRG, the state can converge to a translation-breaking state with a domain wall. When this happens, many things about iDMRG fails. Most notably, there will be two clear signs of failure:\n",
    "\n",
    "1. `E_MPO` and `E_DMRG` will not agree with each other.\n",
    "2. `norm_error` does not go to zero.\n",
    "\n",
    "When these kind of behaviors show up, suspect the presence of a domain wall!"
   ]
  }
 ],
 "metadata": {
  "kernelspec": {
   "display_name": "BLG_DMRG",
   "language": "python",
   "name": "blg_dmrg_new"
  },
  "language_info": {
   "codemirror_mode": {
    "name": "ipython",
    "version": 3
   },
   "file_extension": ".py",
   "mimetype": "text/x-python",
   "name": "python",
   "nbconvert_exporter": "python",
   "pygments_lexer": "ipython3",
   "version": "3.7.10"
  }
 },
 "nbformat": 4,
 "nbformat_minor": 5
}
