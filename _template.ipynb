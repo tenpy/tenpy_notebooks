{
 "cells": [
  {
   "cell_type": "markdown",
   "metadata": {},
   "source": [
    "# Template\n",
    "\n",
    "This notebook serves just as a template for setting up new examples."
   ]
  },
  {
   "cell_type": "markdown",
   "metadata": {},
   "source": [
    "Please follow these guidelines:\n",
    "\n",
    "- [ ] Choose the (beggining of the) filename such that the order of the included examples makes somewhat sense and the basic examples come first.\n",
    "- [ ] Include a title at the top of the notebook to make sure it can be included into the documentation.\n",
    "  Use only subtitles afterwards.\n",
    "- [ ] Include the output such that others don't need to rerun everything to see it.\n",
    "- [ ] Before saving, \"Restart Kernel and Run All Cells\" to ensure that everything works properly.\n",
    "- [ ] Add a summary of what is shown in the example at the top, if this seems useful/necessary.\n",
    "- [ ] Remove this comment"
   ]
  },
  {
   "cell_type": "code",
   "execution_count": 4,
   "metadata": {},
   "outputs": [],
   "source": [
    "import numpy as np\n",
    "import matplotlib.pyplot as plt\n",
    "np.set_printoptions(precision=5, suppress=True, linewidth=100)\n",
    "plt.rcParams['figure.dpi'] = 150"
   ]
  },
  {
   "cell_type": "code",
   "execution_count": 2,
   "metadata": {},
   "outputs": [],
   "source": [
    "import tenpy\n",
    "\n",
    "tenpy.tools.misc.setup_logging(to_stdout=\"INFO\")"
   ]
  },
  {
   "cell_type": "code",
   "execution_count": 3,
   "metadata": {},
   "outputs": [
    {
     "name": "stdout",
     "output_type": "stream",
     "text": [
      "tenpy 0.8.4.dev114+3c453b7 (compiled with HAVE_MKL),\n",
      "git revision 3c453b7285d573e287ff2483762a897d25c8aa9a using\n",
      "python 3.8.1 | packaged by conda-forge | (default, Jan 29 2020, 14:55:04) \n",
      "[GCC 7.3.0]\n",
      "numpy 1.18.1, scipy 1.4.1\n"
     ]
    }
   ],
   "source": [
    "tenpy.show_config()  # example code: check if we use the compiled version"
   ]
  },
  {
   "cell_type": "code",
   "execution_count": null,
   "metadata": {},
   "outputs": [],
   "source": []
  }
 ],
 "metadata": {
  "kernelspec": {
   "display_name": "Python 3",
   "language": "python",
   "name": "python3"
  },
  "language_info": {
   "codemirror_mode": {
    "name": "ipython",
    "version": 3
   },
   "file_extension": ".py",
   "mimetype": "text/x-python",
   "name": "python",
   "nbconvert_exporter": "python",
   "pygments_lexer": "ipython3",
   "version": "3.8.1"
  }
 },
 "nbformat": 4,
 "nbformat_minor": 4
}
